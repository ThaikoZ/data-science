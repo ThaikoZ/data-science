{
  "nbformat": 4,
  "nbformat_minor": 0,
  "metadata": {
    "colab": {
      "provenance": [],
      "toc_visible": true,
      "authorship_tag": "ABX9TyMCNSdjmJEpihJbDa/GXw6g",
      "include_colab_link": true
    },
    "kernelspec": {
      "name": "python3",
      "display_name": "Python 3"
    },
    "language_info": {
      "name": "python"
    }
  },
  "cells": [
    {
      "cell_type": "markdown",
      "metadata": {
        "id": "view-in-github",
        "colab_type": "text"
      },
      "source": [
        "<a href=\"https://colab.research.google.com/github/ThaikoZ/data-science/blob/main/template.ipynb\" target=\"_parent\"><img src=\"https://colab.research.google.com/assets/colab-badge.svg\" alt=\"Open In Colab\"/></a>"
      ]
    },
    {
      "cell_type": "markdown",
      "source": [
        "# Biblioteka **NUMPY**"
      ],
      "metadata": {
        "id": "D0QZinZ5Q-Ik"
      }
    },
    {
      "cell_type": "code",
      "source": [
        "import numpy as np\n",
        "\n",
        "np.__version__"
      ],
      "metadata": {
        "id": "Q2XrWVONQK0d",
        "colab": {
          "base_uri": "https://localhost:8080/",
          "height": 35
        },
        "outputId": "bc4bbfaa-9fa8-4c8a-9621-3ab58c4874e9"
      },
      "execution_count": 3,
      "outputs": [
        {
          "output_type": "execute_result",
          "data": {
            "text/plain": [
              "'1.23.5'"
            ],
            "application/vnd.google.colaboratory.intrinsic+json": {
              "type": "string"
            }
          },
          "metadata": {},
          "execution_count": 3
        }
      ]
    },
    {
      "cell_type": "code",
      "source": [
        "print(dir(np)) # Wyświetla możliwe metody numpy"
      ],
      "metadata": {
        "id": "47EhyzHOTwBH"
      },
      "execution_count": null,
      "outputs": []
    },
    {
      "cell_type": "code",
      "source": [
        "help(np.array) # Wyświetla szczegóły dotyczące konkretnej metody"
      ],
      "metadata": {
        "id": "hMh_eLxQUBIm"
      },
      "execution_count": null,
      "outputs": []
    },
    {
      "cell_type": "markdown",
      "source": [
        "\n",
        "\n",
        "---\n",
        "\n",
        "\n",
        "\n",
        "## Podstawowe atrybuty tablic\n",
        "\n",
        "**ndim** - zwraca numer wymiarów - Number of Dimensions\n",
        "\n",
        "**shape** - zwraca rozmiar każdego wymiaru\n",
        "\n",
        "**size** - ilość elementów w tablicy\n",
        "\n",
        "**dtype** - zwraca typ danych tablicy np. *int8, int32, int64, float, bool, complex*"
      ],
      "metadata": {
        "id": "yZY9nJi5Vr85"
      }
    },
    {
      "cell_type": "code",
      "source": [
        "x = np.array([[2, 3, 2], [1, 4, 3]])\n",
        "print(x)"
      ],
      "metadata": {
        "colab": {
          "base_uri": "https://localhost:8080/"
        },
        "id": "T4hMbLnUUM-2",
        "outputId": "a55e3ff7-6dd5-44e4-e17d-c4968d716cad"
      },
      "execution_count": 14,
      "outputs": [
        {
          "output_type": "stream",
          "name": "stdout",
          "text": [
            "[[2 3 2]\n",
            " [1 4 3]]\n"
          ]
        }
      ]
    },
    {
      "cell_type": "code",
      "source": [
        "x.ndim # Zwraca numer wymiarów - Number of Dimensions"
      ],
      "metadata": {
        "colab": {
          "base_uri": "https://localhost:8080/"
        },
        "id": "q4GLKCWPU3Rm",
        "outputId": "72f5de68-0327-4daf-e54a-36c623736b94"
      },
      "execution_count": 15,
      "outputs": [
        {
          "output_type": "execute_result",
          "data": {
            "text/plain": [
              "2"
            ]
          },
          "metadata": {},
          "execution_count": 15
        }
      ]
    },
    {
      "cell_type": "code",
      "source": [
        "x.shape # Zwraca rozmiar każdego wymiaru"
      ],
      "metadata": {
        "colab": {
          "base_uri": "https://localhost:8080/"
        },
        "id": "pWfUiTkZU6pO",
        "outputId": "e1a4b659-4cc5-4c0d-89ef-4672dde93832"
      },
      "execution_count": 16,
      "outputs": [
        {
          "output_type": "execute_result",
          "data": {
            "text/plain": [
              "(2, 3)"
            ]
          },
          "metadata": {},
          "execution_count": 16
        }
      ]
    },
    {
      "cell_type": "code",
      "source": [
        "x.size # Ilość elementów w tablicy"
      ],
      "metadata": {
        "colab": {
          "base_uri": "https://localhost:8080/"
        },
        "id": "Kje1WQfeVCtG",
        "outputId": "9bfddf80-514b-4af7-abc5-b7cb4862ca15"
      },
      "execution_count": 17,
      "outputs": [
        {
          "output_type": "execute_result",
          "data": {
            "text/plain": [
              "6"
            ]
          },
          "metadata": {},
          "execution_count": 17
        }
      ]
    },
    {
      "cell_type": "code",
      "source": [
        "x.dtype # Zwraca typ danych tablicy"
      ],
      "metadata": {
        "colab": {
          "base_uri": "https://localhost:8080/"
        },
        "id": "NvdZ2s4kVHvV",
        "outputId": "1bc52d47-127a-4b9e-f62c-d34b5e98e409"
      },
      "execution_count": 18,
      "outputs": [
        {
          "output_type": "execute_result",
          "data": {
            "text/plain": [
              "dtype('int64')"
            ]
          },
          "metadata": {},
          "execution_count": 18
        }
      ]
    },
    {
      "cell_type": "markdown",
      "source": [
        "\n",
        "\n",
        "---\n",
        "\n",
        "\n",
        "## Tworzenie tablic\n",
        "\n",
        "Każda przyjmuje również następujące parametry (*dtype=float, order='C', like=None*) z wyjątkiem linspace\n",
        "\n",
        "**np.zeros(** *shape* **)** - wypełnia tablicę zerami\n",
        "\n",
        "**np.ones(** *shape* **)** - wypełnia tablicę jedynkami\n",
        "\n",
        "**np.full(** *shape, fill_value* **)** - wypełnia tablicę fill_value\n",
        "\n",
        "**np.arange(** *start, stop, step* **)** - wypełnia tablicę range()\n",
        "\n",
        "**np.linspace(** *start, stop, num=50, endpoint=True, retstep=False, dtype=None, axis=0* **)** - dostajemy równo rozłożone elementy\n",
        "\n",
        "\n",
        "**reshape((3, 2))** - zwraca tablicę w strukturze 3, 2"
      ],
      "metadata": {
        "id": "xuiNIle8XO9j"
      }
    },
    {
      "cell_type": "code",
      "source": [
        "x = np.zeros(shape=(4, 10), dtype='int')\n",
        "print(x)"
      ],
      "metadata": {
        "colab": {
          "base_uri": "https://localhost:8080/"
        },
        "id": "0flct53oXRtn",
        "outputId": "24ed07a0-b2b8-4289-d81c-7e8fc6945e15"
      },
      "execution_count": 21,
      "outputs": [
        {
          "output_type": "stream",
          "name": "stdout",
          "text": [
            "[[0 0 0 0 0 0 0 0 0 0]\n",
            " [0 0 0 0 0 0 0 0 0 0]\n",
            " [0 0 0 0 0 0 0 0 0 0]\n",
            " [0 0 0 0 0 0 0 0 0 0]]\n"
          ]
        }
      ]
    },
    {
      "cell_type": "code",
      "source": [
        "np.ones(shape=(5,5), dtype='int')"
      ],
      "metadata": {
        "colab": {
          "base_uri": "https://localhost:8080/"
        },
        "id": "7nQB1CXSXWTO",
        "outputId": "422a2985-ec44-42df-9e4c-cbfd2ee49ac3"
      },
      "execution_count": 24,
      "outputs": [
        {
          "output_type": "execute_result",
          "data": {
            "text/plain": [
              "array([[1, 1, 1, 1, 1],\n",
              "       [1, 1, 1, 1, 1],\n",
              "       [1, 1, 1, 1, 1],\n",
              "       [1, 1, 1, 1, 1],\n",
              "       [1, 1, 1, 1, 1]])"
            ]
          },
          "metadata": {},
          "execution_count": 24
        }
      ]
    },
    {
      "cell_type": "code",
      "source": [
        "np.full(shape=(4, 4), fill_value=4, dtype='int')"
      ],
      "metadata": {
        "colab": {
          "base_uri": "https://localhost:8080/"
        },
        "id": "OcmsEltBXnOu",
        "outputId": "f2631366-65a0-44e4-d60a-cef5159f4fac"
      },
      "execution_count": 25,
      "outputs": [
        {
          "output_type": "execute_result",
          "data": {
            "text/plain": [
              "array([[4, 4, 4, 4],\n",
              "       [4, 4, 4, 4],\n",
              "       [4, 4, 4, 4],\n",
              "       [4, 4, 4, 4]])"
            ]
          },
          "metadata": {},
          "execution_count": 25
        }
      ]
    },
    {
      "cell_type": "code",
      "source": [
        "A = np.arange(start=1, stop=16, step=1 )\n",
        "A"
      ],
      "metadata": {
        "colab": {
          "base_uri": "https://localhost:8080/"
        },
        "id": "PvHOZ79pXxzO",
        "outputId": "83560ee2-f553-495b-a90c-487d9b813aa9"
      },
      "execution_count": 39,
      "outputs": [
        {
          "output_type": "execute_result",
          "data": {
            "text/plain": [
              "array([ 1,  2,  3,  4,  5,  6,  7,  8,  9, 10, 11, 12, 13, 14, 15])"
            ]
          },
          "metadata": {},
          "execution_count": 39
        }
      ]
    },
    {
      "cell_type": "code",
      "source": [
        "np.linspace(start=10, stop = 50, num=70)"
      ],
      "metadata": {
        "colab": {
          "base_uri": "https://localhost:8080/"
        },
        "id": "woAMcfaMZddM",
        "outputId": "f37b6bc4-c9d9-402f-f59f-28106aa6b97a"
      },
      "execution_count": 32,
      "outputs": [
        {
          "output_type": "execute_result",
          "data": {
            "text/plain": [
              "array([10.        , 10.57971014, 11.15942029, 11.73913043, 12.31884058,\n",
              "       12.89855072, 13.47826087, 14.05797101, 14.63768116, 15.2173913 ,\n",
              "       15.79710145, 16.37681159, 16.95652174, 17.53623188, 18.11594203,\n",
              "       18.69565217, 19.27536232, 19.85507246, 20.43478261, 21.01449275,\n",
              "       21.5942029 , 22.17391304, 22.75362319, 23.33333333, 23.91304348,\n",
              "       24.49275362, 25.07246377, 25.65217391, 26.23188406, 26.8115942 ,\n",
              "       27.39130435, 27.97101449, 28.55072464, 29.13043478, 29.71014493,\n",
              "       30.28985507, 30.86956522, 31.44927536, 32.02898551, 32.60869565,\n",
              "       33.1884058 , 33.76811594, 34.34782609, 34.92753623, 35.50724638,\n",
              "       36.08695652, 36.66666667, 37.24637681, 37.82608696, 38.4057971 ,\n",
              "       38.98550725, 39.56521739, 40.14492754, 40.72463768, 41.30434783,\n",
              "       41.88405797, 42.46376812, 43.04347826, 43.62318841, 44.20289855,\n",
              "       44.7826087 , 45.36231884, 45.94202899, 46.52173913, 47.10144928,\n",
              "       47.68115942, 48.26086957, 48.84057971, 49.42028986, 50.        ])"
            ]
          },
          "metadata": {},
          "execution_count": 32
        }
      ]
    },
    {
      "cell_type": "code",
      "source": [
        "A.reshape((3, 5))"
      ],
      "metadata": {
        "colab": {
          "base_uri": "https://localhost:8080/"
        },
        "id": "52erf7v_YDqn",
        "outputId": "114f237a-249b-4bd9-a5af-5af869b56203"
      },
      "execution_count": 40,
      "outputs": [
        {
          "output_type": "execute_result",
          "data": {
            "text/plain": [
              "array([[ 1,  2,  3,  4,  5],\n",
              "       [ 6,  7,  8,  9, 10],\n",
              "       [11, 12, 13, 14, 15]])"
            ]
          },
          "metadata": {},
          "execution_count": 40
        }
      ]
    },
    {
      "cell_type": "code",
      "source": [
        "A.reshape((-1, 3))"
      ],
      "metadata": {
        "colab": {
          "base_uri": "https://localhost:8080/"
        },
        "id": "vLr4pvS5YTQu",
        "outputId": "8704f72e-34ed-4728-935b-f09a8cc2b627"
      },
      "execution_count": 43,
      "outputs": [
        {
          "output_type": "execute_result",
          "data": {
            "text/plain": [
              "array([[ 1,  2,  3],\n",
              "       [ 4,  5,  6],\n",
              "       [ 7,  8,  9],\n",
              "       [10, 11, 12],\n",
              "       [13, 14, 15]])"
            ]
          },
          "metadata": {},
          "execution_count": 43
        }
      ]
    },
    {
      "cell_type": "code",
      "source": [],
      "metadata": {
        "id": "iq7vcnSjaHR-"
      },
      "execution_count": null,
      "outputs": []
    },
    {
      "cell_type": "markdown",
      "source": [
        "\n",
        "\n",
        "---\n",
        "\n",
        "## Podstawowe działania na tablicach\n",
        "\n",
        "* A+B lub **add**(A, B)\n",
        "* A-B lub **substract**(A, B)\n",
        "* A\\*B lub **multiply**(A, B)\n",
        "* A/B lub **divide**(A, B)\n",
        "* A+3\n",
        "* A-7\n",
        "* B/2\n",
        "* np.dot(A, B), X.dot(B), A @ B"
      ],
      "metadata": {
        "id": "UorClWRyafcq"
      }
    },
    {
      "cell_type": "code",
      "source": [
        "A = np.array([3, 1, 4, 2])\n",
        "B = np.array([3, -1, 3, 2])\n",
        "\n",
        "print(A+B, A-B, A*B, A/B)"
      ],
      "metadata": {
        "colab": {
          "base_uri": "https://localhost:8080/"
        },
        "id": "zVL0Lh-mapce",
        "outputId": "e42ca176-53fc-4bd2-eeef-5fdbcee606e5"
      },
      "execution_count": 50,
      "outputs": [
        {
          "output_type": "stream",
          "name": "stdout",
          "text": [
            "[6 0 7 4] [0 2 1 0] [ 9 -1 12  4] [ 1.         -1.          1.33333333  1.        ]\n"
          ]
        }
      ]
    },
    {
      "cell_type": "code",
      "source": [
        "print(A+5, B-2, A*6, B/2 )"
      ],
      "metadata": {
        "colab": {
          "base_uri": "https://localhost:8080/"
        },
        "id": "iuKeIyG0aqbm",
        "outputId": "e7c44371-5945-4d8f-86b2-0c0503371509"
      },
      "execution_count": 53,
      "outputs": [
        {
          "output_type": "stream",
          "name": "stdout",
          "text": [
            "[8 6 9 7] [ 1 -3  1  0] [18  6 24 12] [ 1.5 -0.5  1.5  1. ]\n"
          ]
        }
      ]
    },
    {
      "cell_type": "code",
      "source": [
        "A = A.reshape((2, 2))\n",
        "B = B.reshape((2, 2))"
      ],
      "metadata": {
        "colab": {
          "base_uri": "https://localhost:8080/"
        },
        "id": "BSrMdVZaa8wG",
        "outputId": "2ffd8587-2a4f-496e-ce6e-a95cbc26aebf"
      },
      "execution_count": 60,
      "outputs": [
        {
          "output_type": "execute_result",
          "data": {
            "text/plain": [
              "array([[12, -1],\n",
              "       [18,  0]])"
            ]
          },
          "metadata": {},
          "execution_count": 60
        }
      ]
    },
    {
      "cell_type": "code",
      "source": [
        "np.dot(A, B)"
      ],
      "metadata": {
        "colab": {
          "base_uri": "https://localhost:8080/"
        },
        "id": "9WaXaTf7cLne",
        "outputId": "c566d6c8-7672-4478-c5a9-f0577fe78b27"
      },
      "execution_count": 61,
      "outputs": [
        {
          "output_type": "execute_result",
          "data": {
            "text/plain": [
              "array([[12, -1],\n",
              "       [18,  0]])"
            ]
          },
          "metadata": {},
          "execution_count": 61
        }
      ]
    },
    {
      "cell_type": "code",
      "source": [
        "A @ B"
      ],
      "metadata": {
        "colab": {
          "base_uri": "https://localhost:8080/"
        },
        "id": "3dxDUvzVcw4W",
        "outputId": "b0c389cf-0642-4452-b833-bd97a315d255"
      },
      "execution_count": 63,
      "outputs": [
        {
          "output_type": "execute_result",
          "data": {
            "text/plain": [
              "array([[12, -1],\n",
              "       [18,  0]])"
            ]
          },
          "metadata": {},
          "execution_count": 63
        }
      ]
    },
    {
      "cell_type": "code",
      "source": [
        "A.dot(B)"
      ],
      "metadata": {
        "colab": {
          "base_uri": "https://localhost:8080/"
        },
        "id": "nTG6_y1hcyve",
        "outputId": "7f66ad0c-4aa7-43ca-a1f5-aa329fe82d9a"
      },
      "execution_count": 64,
      "outputs": [
        {
          "output_type": "execute_result",
          "data": {
            "text/plain": [
              "array([[12, -1],\n",
              "       [18,  0]])"
            ]
          },
          "metadata": {},
          "execution_count": 64
        }
      ]
    },
    {
      "cell_type": "markdown",
      "source": [
        "\n",
        "\n",
        "---\n",
        "\n",
        "## Generowanie liczb pseudolosowych\n"
      ],
      "metadata": {
        "id": "wAQl7-Z0dAdN"
      }
    },
    {
      "cell_type": "code",
      "source": [
        "np.random.seed(0)"
      ],
      "metadata": {
        "id": "ZzDeH1jndD_0"
      },
      "execution_count": 74,
      "outputs": []
    },
    {
      "cell_type": "code",
      "source": [
        "np.random.randn()"
      ],
      "metadata": {
        "colab": {
          "base_uri": "https://localhost:8080/"
        },
        "id": "4AIwmGridR0v",
        "outputId": "9a450ec9-b47d-46df-814a-773a9df8b6ea"
      },
      "execution_count": 79,
      "outputs": [
        {
          "output_type": "execute_result",
          "data": {
            "text/plain": [
              "1.8675579901499675"
            ]
          },
          "metadata": {},
          "execution_count": 79
        }
      ]
    },
    {
      "cell_type": "code",
      "source": [
        "np.random.randn(4,4 )"
      ],
      "metadata": {
        "colab": {
          "base_uri": "https://localhost:8080/"
        },
        "id": "QTZALRMMdd6G",
        "outputId": "9bac6d39-78f7-4812-97dd-e291a8faea9e"
      },
      "execution_count": 82,
      "outputs": [
        {
          "output_type": "execute_result",
          "data": {
            "text/plain": [
              "array([[ 0.42833187,  0.06651722,  0.3024719 , -0.63432209],\n",
              "       [-0.36274117, -0.67246045, -0.35955316, -0.81314628],\n",
              "       [-1.7262826 ,  0.17742614, -0.40178094, -1.63019835],\n",
              "       [ 0.46278226, -0.90729836,  0.0519454 ,  0.72909056]])"
            ]
          },
          "metadata": {},
          "execution_count": 82
        }
      ]
    },
    {
      "cell_type": "code",
      "source": [
        "np.random.rand(3 ,3 ,3 )"
      ],
      "metadata": {
        "colab": {
          "base_uri": "https://localhost:8080/"
        },
        "id": "mbhlSiJbg7DY",
        "outputId": "f86edbc1-a65a-4f97-dc1f-964023c0d011"
      },
      "execution_count": 84,
      "outputs": [
        {
          "output_type": "execute_result",
          "data": {
            "text/plain": [
              "array([[[0.66741038, 0.13179786, 0.7163272 ],\n",
              "        [0.28940609, 0.18319136, 0.58651293],\n",
              "        [0.02010755, 0.82894003, 0.00469548]],\n",
              "\n",
              "       [[0.67781654, 0.27000797, 0.73519402],\n",
              "        [0.96218855, 0.24875314, 0.57615733],\n",
              "        [0.59204193, 0.57225191, 0.22308163]],\n",
              "\n",
              "       [[0.95274901, 0.44712538, 0.84640867],\n",
              "        [0.69947928, 0.29743695, 0.81379782],\n",
              "        [0.39650574, 0.8811032 , 0.58127287]]])"
            ]
          },
          "metadata": {},
          "execution_count": 84
        }
      ]
    },
    {
      "cell_type": "code",
      "source": [
        "np.random.randint(15)"
      ],
      "metadata": {
        "colab": {
          "base_uri": "https://localhost:8080/"
        },
        "id": "nzVFE_D0hC5H",
        "outputId": "2d426dc9-ca38-4bb7-d548-fb6615defdf8"
      },
      "execution_count": 91,
      "outputs": [
        {
          "output_type": "execute_result",
          "data": {
            "text/plain": [
              "13"
            ]
          },
          "metadata": {},
          "execution_count": 91
        }
      ]
    },
    {
      "cell_type": "code",
      "source": [
        "np.random.randint(low=10, high=101, size=10)"
      ],
      "metadata": {
        "colab": {
          "base_uri": "https://localhost:8080/"
        },
        "id": "Rykd0hM3jDun",
        "outputId": "e12a281f-18de-4fec-b29c-4bc1628e8d3c"
      },
      "execution_count": 92,
      "outputs": [
        {
          "output_type": "execute_result",
          "data": {
            "text/plain": [
              "array([93, 43, 42, 80, 95, 41, 23, 81, 66, 34])"
            ]
          },
          "metadata": {},
          "execution_count": 92
        }
      ]
    },
    {
      "cell_type": "code",
      "source": [
        "np.random.choice([2, 3, 4, 7, 1])"
      ],
      "metadata": {
        "colab": {
          "base_uri": "https://localhost:8080/"
        },
        "id": "ikMLYK6XjLDf",
        "outputId": "126dd5e6-9ea4-4169-874d-02ecff94b94c"
      },
      "execution_count": 97,
      "outputs": [
        {
          "output_type": "execute_result",
          "data": {
            "text/plain": [
              "3"
            ]
          },
          "metadata": {},
          "execution_count": 97
        }
      ]
    },
    {
      "cell_type": "code",
      "source": [],
      "metadata": {
        "id": "Mp-rrAi7jleX"
      },
      "execution_count": null,
      "outputs": []
    }
  ]
}